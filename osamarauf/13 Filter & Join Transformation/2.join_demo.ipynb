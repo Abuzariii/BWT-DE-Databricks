{
 "cells": [
  {
   "cell_type": "code",
   "execution_count": 0,
   "metadata": {
    "application/vnd.databricks.v1+cell": {
     "cellMetadata": {
      "byteLimit": 2048000,
      "rowLimit": 10000
     },
     "inputWidgets": {},
     "nuid": "5b1175c9-5cc2-491d-9acb-e118a0c5a101",
     "showTitle": false,
     "title": ""
    }
   },
   "outputs": [],
   "source": [
    "%run \"../includes/configuration\""
   ]
  },
  {
   "cell_type": "code",
   "execution_count": 0,
   "metadata": {
    "application/vnd.databricks.v1+cell": {
     "cellMetadata": {
      "byteLimit": 2048000,
      "rowLimit": 10000
     },
     "inputWidgets": {},
     "nuid": "5afba7c6-4538-4217-8f2b-28fcd52eff8f",
     "showTitle": false,
     "title": ""
    }
   },
   "outputs": [],
   "source": [
    "circuit_df = spark.read.parquet(f\"{processed_folder_path}/circuit\").withColumnRenamed(\"name\", \"circuit_name\").filter(\"circuit_id < 70\")"
   ]
  },
  {
   "cell_type": "code",
   "execution_count": 0,
   "metadata": {
    "application/vnd.databricks.v1+cell": {
     "cellMetadata": {
      "byteLimit": 2048000,
      "rowLimit": 10000
     },
     "inputWidgets": {},
     "nuid": "df2fe292-4a1d-449e-8c58-e4f788d6aa07",
     "showTitle": false,
     "title": ""
    }
   },
   "outputs": [],
   "source": [
    "races_df = spark.read.parquet(f\"{processed_folder_path}/races\").withColumnRenamed(\"name\", \"race_name\").filter(\"race_year = 2019\")"
   ]
  },
  {
   "cell_type": "code",
   "execution_count": 0,
   "metadata": {
    "application/vnd.databricks.v1+cell": {
     "cellMetadata": {
      "byteLimit": 2048000,
      "rowLimit": 10000
     },
     "inputWidgets": {},
     "nuid": "a14fded6-528a-4711-aebd-dcf13d5822b4",
     "showTitle": false,
     "title": ""
    }
   },
   "outputs": [],
   "source": [
    "races_circuit_df = circuit_df.join(races_df, circuit_df.circuit_id == races_df.circuit_id, \"inner\").select(circuit_df.circuit_name, circuit_df.location, circuit_df.country, races_df.race_name, races_df.round)"
   ]
  },
  {
   "cell_type": "code",
   "execution_count": 0,
   "metadata": {
    "application/vnd.databricks.v1+cell": {
     "cellMetadata": {
      "byteLimit": 2048000,
      "rowLimit": 10000
     },
     "inputWidgets": {},
     "nuid": "ce0905ba-b14c-4afe-a1fe-a849d6dec900",
     "showTitle": false,
     "title": ""
    }
   },
   "outputs": [],
   "source": [
    "races_circuit_df = circuit_df.join(races_df, circuit_df.circuit_id == races_df.circuit_id, \"left\").select(circuit_df.circuit_name, circuit_df.location, circuit_df.country, races_df.race_name, races_df.round)"
   ]
  },
  {
   "cell_type": "code",
   "execution_count": 0,
   "metadata": {
    "application/vnd.databricks.v1+cell": {
     "cellMetadata": {
      "byteLimit": 2048000,
      "rowLimit": 10000
     },
     "inputWidgets": {},
     "nuid": "ab5e69b5-db56-4094-af62-84a1e371985c",
     "showTitle": false,
     "title": ""
    }
   },
   "outputs": [],
   "source": [
    "races_circuit_df = circuit_df.join(races_df, circuit_df.circuit_id == races_df.circuit_id, \"right\").select(circuit_df.circuit_name, circuit_df.location, circuit_df.country, races_df.race_name, races_df.round)"
   ]
  }
 ],
 "metadata": {
  "application/vnd.databricks.v1+notebook": {
   "dashboards": [],
   "language": "python",
   "notebookMetadata": {
    "pythonIndentUnit": 4
   },
   "notebookName": "2.join_demo",
   "widgets": {}
  }
 },
 "nbformat": 4,
 "nbformat_minor": 0
}
