{
 "cells": [
  {
   "cell_type": "code",
   "execution_count": 0,
   "metadata": {
    "application/vnd.databricks.v1+cell": {
     "cellMetadata": {
      "byteLimit": 2048000,
      "rowLimit": 10000
     },
     "inputWidgets": {},
     "nuid": "ba2359a6-ff3d-48de-945c-acf8890e643f",
     "showTitle": false,
     "title": ""
    }
   },
   "outputs": [],
   "source": [
    "%run \"../includes/configuration\""
   ]
  },
  {
   "cell_type": "code",
   "execution_count": 0,
   "metadata": {
    "application/vnd.databricks.v1+cell": {
     "cellMetadata": {
      "byteLimit": 2048000,
      "rowLimit": 10000
     },
     "inputWidgets": {},
     "nuid": "71105bb8-d8d4-463c-a4f6-4da094d0200b",
     "showTitle": false,
     "title": ""
    }
   },
   "outputs": [],
   "source": [
    "races_df = spark.read.parquet(f\"{processed_folder_path}/races\")"
   ]
  },
  {
   "cell_type": "code",
   "execution_count": 0,
   "metadata": {
    "application/vnd.databricks.v1+cell": {
     "cellMetadata": {
      "byteLimit": 2048000,
      "rowLimit": 10000
     },
     "inputWidgets": {},
     "nuid": "94f34f00-0fe8-4cd0-a7f7-99e7eb78a519",
     "showTitle": false,
     "title": ""
    }
   },
   "outputs": [],
   "source": [
    "races_filtered_df = races_df.filter(\"race_year = 2019 and round <= 5\")"
   ]
  },
  {
   "cell_type": "code",
   "execution_count": 0,
   "metadata": {
    "application/vnd.databricks.v1+cell": {
     "cellMetadata": {
      "byteLimit": 2048000,
      "rowLimit": 10000
     },
     "inputWidgets": {},
     "nuid": "a4e3827d-4420-46f7-9a4a-c0f48b8b4eda",
     "showTitle": false,
     "title": ""
    }
   },
   "outputs": [
    {
     "output_type": "display_data",
     "data": {
      "text/html": [
       "<style scoped>\n",
       "  .table-result-container {\n",
       "    max-height: 300px;\n",
       "    overflow: auto;\n",
       "  }\n",
       "  table, th, td {\n",
       "    border: 1px solid black;\n",
       "    border-collapse: collapse;\n",
       "  }\n",
       "  th, td {\n",
       "    padding: 5px;\n",
       "  }\n",
       "  th {\n",
       "    text-align: left;\n",
       "  }\n",
       "</style><div class='table-result-container'><table class='table-result'><thead style='background-color: white'><tr><th>race_id</th><th>race_year</th><th>round</th><th>circuit_id</th><th>name</th><th>ingestion_date</th><th>race_timestamp</th><th>data_source</th></tr></thead><tbody><tr><td>1010</td><td>2019</td><td>1</td><td>1</td><td>Australian Grand Prix</td><td>2023-05-13T13:05:43.345+0000</td><td>2019-03-17T05:10:00.000+0000</td><td>testing</td></tr><tr><td>1011</td><td>2019</td><td>2</td><td>3</td><td>Bahrain Grand Prix</td><td>2023-05-13T13:05:43.345+0000</td><td>2019-03-31T15:10:00.000+0000</td><td>testing</td></tr><tr><td>1012</td><td>2019</td><td>3</td><td>17</td><td>Chinese Grand Prix</td><td>2023-05-13T13:05:43.345+0000</td><td>2019-04-14T06:10:00.000+0000</td><td>testing</td></tr><tr><td>1013</td><td>2019</td><td>4</td><td>73</td><td>Azerbaijan Grand Prix</td><td>2023-05-13T13:05:43.345+0000</td><td>2019-04-28T12:10:00.000+0000</td><td>testing</td></tr><tr><td>1014</td><td>2019</td><td>5</td><td>4</td><td>Spanish Grand Prix</td><td>2023-05-13T13:05:43.345+0000</td><td>2019-05-12T13:10:00.000+0000</td><td>testing</td></tr></tbody></table></div>"
      ]
     },
     "metadata": {
      "application/vnd.databricks.v1+output": {
       "addedWidgets": {},
       "aggData": [],
       "aggError": "",
       "aggOverflow": false,
       "aggSchema": [],
       "aggSeriesLimitReached": false,
       "aggType": "",
       "arguments": {},
       "columnCustomDisplayInfos": {},
       "data": [
        [
         1010,
         2019,
         1,
         1,
         "Australian Grand Prix",
         "2023-05-13T13:05:43.345+0000",
         "2019-03-17T05:10:00.000+0000",
         "testing"
        ],
        [
         1011,
         2019,
         2,
         3,
         "Bahrain Grand Prix",
         "2023-05-13T13:05:43.345+0000",
         "2019-03-31T15:10:00.000+0000",
         "testing"
        ],
        [
         1012,
         2019,
         3,
         17,
         "Chinese Grand Prix",
         "2023-05-13T13:05:43.345+0000",
         "2019-04-14T06:10:00.000+0000",
         "testing"
        ],
        [
         1013,
         2019,
         4,
         73,
         "Azerbaijan Grand Prix",
         "2023-05-13T13:05:43.345+0000",
         "2019-04-28T12:10:00.000+0000",
         "testing"
        ],
        [
         1014,
         2019,
         5,
         4,
         "Spanish Grand Prix",
         "2023-05-13T13:05:43.345+0000",
         "2019-05-12T13:10:00.000+0000",
         "testing"
        ]
       ],
       "datasetInfos": [],
       "dbfsResultPath": null,
       "isJsonSchema": true,
       "metadata": {},
       "overflow": false,
       "plotOptions": {
        "customPlotOptions": {},
        "displayType": "table",
        "pivotAggregation": null,
        "pivotColumns": null,
        "xColumns": null,
        "yColumns": null
       },
       "removedWidgets": [],
       "schema": [
        {
         "metadata": "{}",
         "name": "race_id",
         "type": "\"integer\""
        },
        {
         "metadata": "{}",
         "name": "race_year",
         "type": "\"integer\""
        },
        {
         "metadata": "{}",
         "name": "round",
         "type": "\"integer\""
        },
        {
         "metadata": "{}",
         "name": "circuit_id",
         "type": "\"integer\""
        },
        {
         "metadata": "{}",
         "name": "name",
         "type": "\"string\""
        },
        {
         "metadata": "{}",
         "name": "ingestion_date",
         "type": "\"timestamp\""
        },
        {
         "metadata": "{}",
         "name": "race_timestamp",
         "type": "\"timestamp\""
        },
        {
         "metadata": "{}",
         "name": "data_source",
         "type": "\"string\""
        }
       ],
       "type": "table"
      }
     },
     "output_type": "display_data"
    }
   ],
   "source": [
    "display(races_filtered_df)"
   ]
  }
 ],
 "metadata": {
  "application/vnd.databricks.v1+notebook": {
   "dashboards": [],
   "language": "python",
   "notebookMetadata": {
    "pythonIndentUnit": 4
   },
   "notebookName": "1.filter_demo",
   "widgets": {}
  }
 },
 "nbformat": 4,
 "nbformat_minor": 0
}
