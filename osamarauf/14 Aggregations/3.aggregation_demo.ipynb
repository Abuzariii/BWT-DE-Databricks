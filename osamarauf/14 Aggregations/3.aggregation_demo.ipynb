{
 "cells": [
  {
   "cell_type": "code",
   "execution_count": 0,
   "metadata": {
    "application/vnd.databricks.v1+cell": {
     "cellMetadata": {
      "byteLimit": 2048000,
      "rowLimit": 10000
     },
     "inputWidgets": {},
     "nuid": "5c841ada-43dc-4bd5-9792-1b17c43b94e6",
     "showTitle": false,
     "title": ""
    }
   },
   "outputs": [],
   "source": [
    "%run \"../includes/configuration\""
   ]
  },
  {
   "cell_type": "code",
   "execution_count": 0,
   "metadata": {
    "application/vnd.databricks.v1+cell": {
     "cellMetadata": {
      "byteLimit": 2048000,
      "rowLimit": 10000
     },
     "inputWidgets": {},
     "nuid": "dc24a554-9ce1-4c42-b572-15f46d54647e",
     "showTitle": false,
     "title": ""
    }
   },
   "outputs": [],
   "source": [
    "demo_df = spark.read.parquet(f\"{presentation_folder_path}/race_results\").filter(\"race_year==2020\")"
   ]
  },
  {
   "cell_type": "code",
   "execution_count": 0,
   "metadata": {
    "application/vnd.databricks.v1+cell": {
     "cellMetadata": {
      "byteLimit": 2048000,
      "rowLimit": 10000
     },
     "inputWidgets": {},
     "nuid": "8c632077-8ec1-48ee-ba8e-cd8d8a945428",
     "showTitle": false,
     "title": ""
    }
   },
   "outputs": [],
   "source": [
    "from pyspark.sql.functions import count, countDistinct, sum"
   ]
  },
  {
   "cell_type": "code",
   "execution_count": 0,
   "metadata": {
    "application/vnd.databricks.v1+cell": {
     "cellMetadata": {
      "byteLimit": 2048000,
      "rowLimit": 10000
     },
     "inputWidgets": {},
     "nuid": "4aeab5f2-5a5a-4241-8080-71fdd0903bee",
     "showTitle": false,
     "title": ""
    }
   },
   "outputs": [
    {
     "output_type": "stream",
     "name": "stdout",
     "output_type": "stream",
     "text": [
      "+--------+\n|count(1)|\n+--------+\n|     340|\n+--------+\n\n"
     ]
    }
   ],
   "source": [
    "demo_df.select(count(\"*\")).show()"
   ]
  },
  {
   "cell_type": "code",
   "execution_count": 0,
   "metadata": {
    "application/vnd.databricks.v1+cell": {
     "cellMetadata": {
      "byteLimit": 2048000,
      "rowLimit": 10000
     },
     "inputWidgets": {},
     "nuid": "b1181aeb-8ff0-4914-bded-29b507da69f6",
     "showTitle": false,
     "title": ""
    }
   },
   "outputs": [
    {
     "output_type": "stream",
     "name": "stdout",
     "output_type": "stream",
     "text": [
      "+-------------------------+\n|count(DISTINCT race_name)|\n+-------------------------+\n|                       17|\n+-------------------------+\n\n"
     ]
    }
   ],
   "source": [
    "demo_df.select(countDistinct(\"race_name\")).show()"
   ]
  },
  {
   "cell_type": "code",
   "execution_count": 0,
   "metadata": {
    "application/vnd.databricks.v1+cell": {
     "cellMetadata": {
      "byteLimit": 2048000,
      "rowLimit": 10000
     },
     "inputWidgets": {},
     "nuid": "177f9eee-ce09-40fd-b4cd-14f43ef0a85d",
     "showTitle": false,
     "title": ""
    }
   },
   "outputs": [
    {
     "output_type": "stream",
     "name": "stdout",
     "output_type": "stream",
     "text": [
      "+-----------+\n|sum(points)|\n+-----------+\n|      347.0|\n+-----------+\n\n"
     ]
    }
   ],
   "source": [
    "demo_df.filter(\"driver_name = 'Lewis Hamilton'\").select(sum(\"points\")).show()"
   ]
  },
  {
   "cell_type": "code",
   "execution_count": 0,
   "metadata": {
    "application/vnd.databricks.v1+cell": {
     "cellMetadata": {
      "byteLimit": 2048000,
      "rowLimit": 10000
     },
     "inputWidgets": {},
     "nuid": "84bfcddd-349e-4463-8744-8f047ad3b936",
     "showTitle": false,
     "title": ""
    }
   },
   "outputs": [
    {
     "output_type": "stream",
     "name": "stdout",
     "output_type": "stream",
     "text": [
      "+-----------+-------------------------+\n|sum(points)|count(DISTINCT race_name)|\n+-----------+-------------------------+\n|      347.0|                       16|\n+-----------+-------------------------+\n\n"
     ]
    }
   ],
   "source": [
    "demo_df.filter(\"driver_name = 'Lewis Hamilton'\").select(sum(\"points\"), countDistinct(\"race_name\")).show()"
   ]
  },
  {
   "cell_type": "code",
   "execution_count": 0,
   "metadata": {
    "application/vnd.databricks.v1+cell": {
     "cellMetadata": {
      "byteLimit": 2048000,
      "rowLimit": 10000
     },
     "inputWidgets": {},
     "nuid": "9c6a7b2e-bf29-48a8-81cc-18488c648f25",
     "showTitle": false,
     "title": ""
    }
   },
   "outputs": [
    {
     "output_type": "stream",
     "name": "stdout",
     "output_type": "stream",
     "text": [
      "+------------------+-----------+----------------+\n|       driver_name|sum(points)|count(race_name)|\n+------------------+-----------+----------------+\n|       Jack Aitken|        0.0|               1|\n|      Daniil Kvyat|       32.0|              17|\n|   Kevin Magnussen|        1.0|              17|\n|      Sergio Pérez|      125.0|              15|\n|      Carlos Sainz|      105.0|              17|\n|    Kimi Räikkönen|        4.0|              17|\n|   Romain Grosjean|        2.0|              15|\n|   Charles Leclerc|       98.0|              17|\n|   Alexander Albon|      105.0|              17|\n|      Lance Stroll|       75.0|              16|\n|      Pierre Gasly|       75.0|              17|\n|    Lewis Hamilton|      347.0|              16|\n|   Nico Hülkenberg|       10.0|               3|\n|  Daniel Ricciardo|      119.0|              17|\n|   Valtteri Bottas|      223.0|              17|\n|Antonio Giovinazzi|        4.0|              17|\n|      Lando Norris|       97.0|              17|\n|    Max Verstappen|      214.0|              17|\n|    George Russell|        3.0|              17|\n|  Sebastian Vettel|       33.0|              17|\n+------------------+-----------+----------------+\nonly showing top 20 rows\n\n"
     ]
    }
   ],
   "source": [
    "demo_df.groupBy(\"driver_name\").agg(sum(\"points\"), countDistinct(\"race_name\")).show()"
   ]
  },
  {
   "cell_type": "code",
   "execution_count": 0,
   "metadata": {
    "application/vnd.databricks.v1+cell": {
     "cellMetadata": {
      "byteLimit": 2048000,
      "rowLimit": 10000
     },
     "inputWidgets": {},
     "nuid": "adc221de-c95c-4e8f-9d70-f4232b712439",
     "showTitle": false,
     "title": ""
    }
   },
   "outputs": [
    {
     "output_type": "stream",
     "name": "stdout",
     "output_type": "stream",
     "text": [
      "+---------+------------------+-----------+----------------+\n|race_year|       driver_name|sum(points)|count(race_name)|\n+---------+------------------+-----------+----------------+\n|     2020|      Daniil Kvyat|       32.0|              17|\n|     2020|   Kevin Magnussen|        1.0|              17|\n|     2020|Antonio Giovinazzi|        4.0|              17|\n|     2020|   Nico Hülkenberg|       10.0|               3|\n|     2020|   Romain Grosjean|        2.0|              15|\n|     2020|   Charles Leclerc|       98.0|              17|\n|     2020|      Esteban Ocon|       62.0|              17|\n|     2020| Pietro Fittipaldi|        0.0|               2|\n|     2020|  Sebastian Vettel|       33.0|              17|\n|     2020|  Daniel Ricciardo|      119.0|              17|\n|     2020|    Kimi Räikkönen|        4.0|              17|\n|     2020|    George Russell|        3.0|              17|\n|     2020|    Max Verstappen|      214.0|              17|\n|     2020|   Valtteri Bottas|      223.0|              17|\n|     2020|      Pierre Gasly|       75.0|              17|\n|     2020|    Lewis Hamilton|      347.0|              16|\n|     2020|       Jack Aitken|        0.0|               1|\n|     2020|      Lance Stroll|       75.0|              16|\n|     2020|   Nicholas Latifi|        0.0|              17|\n|     2020|      Carlos Sainz|      105.0|              17|\n|     2020|      Lando Norris|       97.0|              17|\n|     2020|   Alexander Albon|      105.0|              17|\n|     2020|      Sergio Pérez|      125.0|              15|\n+---------+------------------+-----------+----------------+\n\n"
     ]
    }
   ],
   "source": [
    "demo_df.groupBy(\"race_year\", \"driver_name\").agg(sum(\"points\"), countDistinct(\"race_name\")).show()"
   ]
  },
  {
   "cell_type": "code",
   "execution_count": 0,
   "metadata": {
    "application/vnd.databricks.v1+cell": {
     "cellMetadata": {
      "byteLimit": 2048000,
      "rowLimit": 10000
     },
     "inputWidgets": {},
     "nuid": "75941130-cd39-425a-8089-a7ef02066c1a",
     "showTitle": false,
     "title": ""
    }
   },
   "outputs": [],
   "source": [
    "demo_df_win = spark.read.parquet(f\"{presentation_folder_path}/race_results\").filter(\"race_year in (2019, 2020)\")"
   ]
  },
  {
   "cell_type": "code",
   "execution_count": 0,
   "metadata": {
    "application/vnd.databricks.v1+cell": {
     "cellMetadata": {
      "byteLimit": 2048000,
      "rowLimit": 10000
     },
     "inputWidgets": {},
     "nuid": "bbb3a2c4-cba7-4835-8b53-684325b5db5f",
     "showTitle": false,
     "title": ""
    }
   },
   "outputs": [],
   "source": [
    "demo_grouped_df = demo_df_win.groupBy(\"race_year\", \"driver_name\").agg(sum(\"points\"), countDistinct(\"race_name\"))"
   ]
  },
  {
   "cell_type": "code",
   "execution_count": 0,
   "metadata": {
    "application/vnd.databricks.v1+cell": {
     "cellMetadata": {
      "byteLimit": 2048000,
      "rowLimit": 10000
     },
     "inputWidgets": {},
     "nuid": "cce3fe2a-efc2-445e-b4b2-ead7a8d57bf5",
     "showTitle": false,
     "title": ""
    }
   },
   "outputs": [],
   "source": [
    "from pyspark.sql.window import Window\n",
    "from pyspark.sql.functions import desc, rank"
   ]
  },
  {
   "cell_type": "code",
   "execution_count": 0,
   "metadata": {
    "application/vnd.databricks.v1+cell": {
     "cellMetadata": {
      "byteLimit": 2048000,
      "rowLimit": 10000
     },
     "inputWidgets": {},
     "nuid": "2812537b-06df-4e69-8dd0-69d3b72861cf",
     "showTitle": false,
     "title": ""
    }
   },
   "outputs": [
    {
     "output_type": "stream",
     "name": "stdout",
     "output_type": "stream",
     "text": [
      "+---------+------------------+-----------+----------------+----+\n|race_year|       driver_name|sum(points)|count(race_name)|rank|\n+---------+------------------+-----------+----------------+----+\n|     2019|    Lewis Hamilton|      413.0|              21|   1|\n|     2019|   Valtteri Bottas|      326.0|              21|   2|\n|     2019|    Max Verstappen|      278.0|              21|   3|\n|     2019|   Charles Leclerc|      264.0|              21|   4|\n|     2019|  Sebastian Vettel|      240.0|              21|   5|\n|     2019|      Carlos Sainz|       96.0|              21|   6|\n|     2019|      Pierre Gasly|       95.0|              21|   7|\n|     2019|   Alexander Albon|       92.0|              21|   8|\n|     2019|  Daniel Ricciardo|       54.0|              21|   9|\n|     2019|      Sergio Pérez|       52.0|              21|  10|\n|     2019|      Lando Norris|       49.0|              21|  11|\n|     2019|    Kimi Räikkönen|       43.0|              21|  12|\n|     2019|   Nico Hülkenberg|       37.0|              21|  13|\n|     2019|      Daniil Kvyat|       37.0|              21|  13|\n|     2019|      Lance Stroll|       21.0|              21|  15|\n|     2019|   Kevin Magnussen|       20.0|              21|  16|\n|     2019|Antonio Giovinazzi|       14.0|              21|  17|\n|     2019|   Romain Grosjean|        8.0|              21|  18|\n|     2019|     Robert Kubica|        1.0|              21|  19|\n|     2019|    George Russell|        0.0|              21|  20|\n|     2020|    Lewis Hamilton|      347.0|              16|   1|\n|     2020|   Valtteri Bottas|      223.0|              17|   2|\n|     2020|    Max Verstappen|      214.0|              17|   3|\n|     2020|      Sergio Pérez|      125.0|              15|   4|\n|     2020|  Daniel Ricciardo|      119.0|              17|   5|\n|     2020|      Carlos Sainz|      105.0|              17|   6|\n|     2020|   Alexander Albon|      105.0|              17|   6|\n|     2020|   Charles Leclerc|       98.0|              17|   8|\n|     2020|      Lando Norris|       97.0|              17|   9|\n|     2020|      Pierre Gasly|       75.0|              17|  10|\n|     2020|      Lance Stroll|       75.0|              16|  10|\n|     2020|      Esteban Ocon|       62.0|              17|  12|\n|     2020|  Sebastian Vettel|       33.0|              17|  13|\n|     2020|      Daniil Kvyat|       32.0|              17|  14|\n|     2020|   Nico Hülkenberg|       10.0|               3|  15|\n|     2020|Antonio Giovinazzi|        4.0|              17|  16|\n|     2020|    Kimi Räikkönen|        4.0|              17|  16|\n|     2020|    George Russell|        3.0|              17|  18|\n|     2020|   Romain Grosjean|        2.0|              15|  19|\n|     2020|   Kevin Magnussen|        1.0|              17|  20|\n|     2020| Pietro Fittipaldi|        0.0|               2|  21|\n|     2020|       Jack Aitken|        0.0|               1|  21|\n|     2020|   Nicholas Latifi|        0.0|              17|  21|\n+---------+------------------+-----------+----------------+----+\n\n"
     ]
    }
   ],
   "source": [
    "driverRankSpec = Window.partitionBy(\"race_year\").orderBy(desc(\"sum(points)\"))\n",
    "demo_grouped_df.withColumn(\"rank\", rank().over(driverRankSpec)).show(100)"
   ]
  },
  {
   "cell_type": "code",
   "execution_count": 0,
   "metadata": {
    "application/vnd.databricks.v1+cell": {
     "cellMetadata": {},
     "inputWidgets": {},
     "nuid": "924d087b-1766-462c-ab06-106fbbac51b4",
     "showTitle": false,
     "title": ""
    }
   },
   "outputs": [],
   "source": []
  }
 ],
 "metadata": {
  "application/vnd.databricks.v1+notebook": {
   "dashboards": [],
   "language": "python",
   "notebookMetadata": {
    "pythonIndentUnit": 4
   },
   "notebookName": "3.aggregation_demo",
   "widgets": {}
  }
 },
 "nbformat": 4,
 "nbformat_minor": 0
}
